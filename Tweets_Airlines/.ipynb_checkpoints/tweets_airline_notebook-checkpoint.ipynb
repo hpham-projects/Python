{
 "cells": [
  {
   "cell_type": "markdown",
   "metadata": {},
   "source": [
    "# Twitter Airline Sentiments Data Set\n",
    "\n",
    "A sentiment analysis job about the problems of each major U.S. airline. Twitter data was scraped from February of 2015 and contributors were asked to first classify positive, negative, and neutral tweets, followed by categorizing negative reasons (such as \"late flight\" or \"rude service\"). The data we're providing on Kaggle is a slightly reformatted version of the original source. It includes both a CSV file and SQLite database. The code that does these transformations is available on GitHub. For example, it contains whether the sentiment of the tweets in this set was positive, neutral, or negative for six US airlines. \n",
    "\n",
    "[Source](https://www.kaggle.com/crowdflower/twitter-airline-sentiment)"
   ]
  },
  {
   "cell_type": "code",
   "execution_count": 2,
   "metadata": {
    "collapsed": true
   },
   "outputs": [],
   "source": [
    "%matplotlib inline\n",
    "import numpy as np\n",
    "import pandas as pd\n",
    "import matplotlib as plt\n",
    "from pylab import *\n",
    "from __future__ import division"
   ]
  },
  {
   "cell_type": "code",
   "execution_count": 3,
   "metadata": {
    "collapsed": true
   },
   "outputs": [],
   "source": [
    "def readcols(data):\n",
    "    for i in sorted(data.columns):\n",
    "        print i"
   ]
  },
  {
   "cell_type": "code",
   "execution_count": 4,
   "metadata": {
    "collapsed": true
   },
   "outputs": [],
   "source": [
    "def tidydata():\n",
    "    # load the data set: tweet_id, airline_sentiment, airline_sentiment_confidence, negativereason, negativereason_confidence,\n",
    "    # airline, airline_sentiment_gold, name, negativereason_gold, retweet_count, text, tweet_coord, tweet_created, tweet_location, \n",
    "    # user_timezone\n",
    "    data = pd.read_csv('Tweets.csv')\n",
    "    return data"
   ]
  },
  {
   "cell_type": "code",
   "execution_count": 5,
   "metadata": {
    "collapsed": false
   },
   "outputs": [],
   "source": [
    "def groupfre(dataFrame):\n",
    "    arr1 = dataFrame.values\n",
    "    arr2 = dataFrame.sum(axis=1) # sum across columns\n",
    "    arr2 = [arr2]*3\n",
    "    arr2 = np.transpose(arr2)   \n",
    "    arr1.astype(float)\n",
    "    arr2.astype(float)\n",
    "    perct = arr1/arr2\n",
    "    return perct"
   ]
  },
  {
   "cell_type": "markdown",
   "metadata": {},
   "source": [
    "#Data visualization\n",
    "## Count sentiments by airlines"
   ]
  },
  {
   "cell_type": "code",
   "execution_count": 6,
   "metadata": {
    "collapsed": true
   },
   "outputs": [],
   "source": [
    "data = tidydata()\n",
    "al_grouped = data.groupby(['airline','airline_sentiment'])\n",
    "al_grouped['airline_sentiment'].count()\n",
    "alsent_cnt = al_grouped['airline_sentiment'].count()\n",
    "alsent_cnt = alsent_cnt.unstack()"
   ]
  },
  {
   "cell_type": "code",
   "execution_count": 7,
   "metadata": {
    "collapsed": false
   },
   "outputs": [
    {
     "data": {
      "text/html": [
       "<div>\n",
       "<table border=\"1\" class=\"dataframe\">\n",
       "  <thead>\n",
       "    <tr style=\"text-align: right;\">\n",
       "      <th>airline_sentiment</th>\n",
       "      <th>negative</th>\n",
       "      <th>neutral</th>\n",
       "      <th>positive</th>\n",
       "    </tr>\n",
       "    <tr>\n",
       "      <th>airline</th>\n",
       "      <th></th>\n",
       "      <th></th>\n",
       "      <th></th>\n",
       "    </tr>\n",
       "  </thead>\n",
       "  <tbody>\n",
       "    <tr>\n",
       "      <th>American</th>\n",
       "      <td>1960</td>\n",
       "      <td>463</td>\n",
       "      <td>336</td>\n",
       "    </tr>\n",
       "    <tr>\n",
       "      <th>Delta</th>\n",
       "      <td>955</td>\n",
       "      <td>723</td>\n",
       "      <td>544</td>\n",
       "    </tr>\n",
       "    <tr>\n",
       "      <th>Southwest</th>\n",
       "      <td>1186</td>\n",
       "      <td>664</td>\n",
       "      <td>570</td>\n",
       "    </tr>\n",
       "    <tr>\n",
       "      <th>US Airways</th>\n",
       "      <td>2263</td>\n",
       "      <td>381</td>\n",
       "      <td>269</td>\n",
       "    </tr>\n",
       "    <tr>\n",
       "      <th>United</th>\n",
       "      <td>2633</td>\n",
       "      <td>697</td>\n",
       "      <td>492</td>\n",
       "    </tr>\n",
       "    <tr>\n",
       "      <th>Virgin America</th>\n",
       "      <td>181</td>\n",
       "      <td>171</td>\n",
       "      <td>152</td>\n",
       "    </tr>\n",
       "  </tbody>\n",
       "</table>\n",
       "</div>"
      ],
      "text/plain": [
       "airline_sentiment  negative  neutral  positive\n",
       "airline                                       \n",
       "American               1960      463       336\n",
       "Delta                   955      723       544\n",
       "Southwest              1186      664       570\n",
       "US Airways             2263      381       269\n",
       "United                 2633      697       492\n",
       "Virgin America          181      171       152"
      ]
     },
     "execution_count": 7,
     "metadata": {},
     "output_type": "execute_result"
    }
   ],
   "source": [
    "# show result\n",
    "alsent_cnt"
   ]
  },
  {
   "cell_type": "markdown",
   "metadata": {},
   "source": [
    "##Number of tweets for all airlines & pie plot"
   ]
  },
  {
   "cell_type": "code",
   "execution_count": 9,
   "metadata": {
    "collapsed": false
   },
   "outputs": [
    {
     "data": {
      "image/png": "[encoded data removed]",
      "text/plain": [
       "<matplotlib.figure.Figure at 0xbc37f60>"
      ]
     },
     "metadata": {},
     "output_type": "display_data"
    }
   ],
   "source": [
    "alsent_cnt_sum = alsent_cnt.sum(axis=1)\n",
    "airlines_names = alsent_cnt_sum.index\n",
    "pie(alsent_cnt_sum.values,labels=airlines_names,autopct='%1.1f%%')\n",
    "title('Airlines: number of tweets', bbox={'facecolor':'0.8', 'pad':2})\n",
    "show()"
   ]
  },
  {
   "cell_type": "markdown",
   "metadata": {},
   "source": [
    "## Types of tweets for each airline & bar plot"
   ]
  },
  {
   "cell_type": "markdown",
   "metadata": {},
   "source": [
    "## In absolute values"
   ]
  },
  {
   "cell_type": "code",
   "execution_count": 40,
   "metadata": {
    "collapsed": false
   },
   "outputs": [
    {
     "data": {
      "image/png": "[encoded data removed]",
      "text/plain": [
       "<matplotlib.figure.Figure at 0xda70d30>"
      ]
     },
     "metadata": {},
     "output_type": "display_data"
    }
   ],
   "source": [
    "#ind = np.arange(6) # locations for groups\n",
    "ind1 = [0.4,1.4,2.4,3.4,4.4,5.4]\n",
    "ind2 = [0,1,2,3,4,5]\n",
    "width = 0.35 # width of bars\n",
    "p1 = plt.bar(ind2,alsent_cnt['negative'],color='r')\n",
    "p2 = plt.bar(ind2,alsent_cnt['neutral'],color='k')\n",
    "p3 = plt.bar(ind2,alsent_cnt['positive'],color='g')    \n",
    "plt.xticks(ind1,('American','Delta','Southwest','US', 'United', 'Virgin'),rotation=12)\n",
    "plt.legend((p1[0], p2[0], p3[0]),('Negative','Neutral','Positive'),bbox_to_anchor=(1.35, 1.00))\n",
    "plt.title('Attitutes: absolute values')\n",
    "plt.show()"
   ]
  },
  {
   "cell_type": "markdown",
   "metadata": {},
   "source": [
    "###In percentages"
   ]
  },
  {
   "cell_type": "code",
   "execution_count": 39,
   "metadata": {
    "collapsed": false
   },
   "outputs": [
    {
     "data": {
      "image/png": "[encoded data removed]",
      "text/plain": [
       "<matplotlib.figure.Figure at 0xbe50d30>"
      ]
     },
     "metadata": {},
     "output_type": "display_data"
    }
   ],
   "source": [
    "ind_ticks = [0.4,1.4,2.4,3.4,4.4,5.4]\n",
    "ind_bar = [0,1,2,3,4,5]\n",
    "pert = groupfre(alsent_cnt)\n",
    "pert_cum = pert.cumsum(axis=1)\n",
    "p4 = plt.bar(ind_bar,pert_cum[:,2],color='r')\n",
    "p5 = plt.bar(ind_bar,pert_cum[:,1],color='k')\n",
    "p6 = plt.bar(ind_bar,pert_cum[:,0],color='g')\n",
    "plt.xticks(ind_ticks,('American','Delta','Southwest','US', 'United', 'Virgin'))\n",
    "plt.legend((p1[0], p2[0], p3[0]),('Negative','Neutral','Positive'),bbox_to_anchor=(1.35, 1.00))\n",
    "plt.title('Attitutes: percentages')\n",
    "plt.show()"
   ]
  },
  {
   "cell_type": "code",
   "execution_count": null,
   "metadata": {
    "collapsed": true
   },
   "outputs": [],
   "source": []
  }
 ],
 "metadata": {
  "kernelspec": {
   "display_name": "Python 2",
   "language": "python",
   "name": "python2"
  },
  "language_info": {
   "codemirror_mode": {
    "name": "ipython",
    "version": 2
   },
   "file_extension": ".py",
   "mimetype": "text/x-python",
   "name": "python",
   "nbconvert_exporter": "python",
   "pygments_lexer": "ipython2",
   "version": "2.7.10"
  }
 },
 "nbformat": 4,
 "nbformat_minor": 0
}
