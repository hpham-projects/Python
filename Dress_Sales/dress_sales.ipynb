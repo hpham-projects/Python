{
 "cells": [
  {
   "cell_type": "markdown",
   "metadata": {},
   "source": [
    "# Dresses Attribute Sales Data Set\n",
    "\n",
    "This dataset contain Attributes of dresses and their recommendations according to their sales. Sales are monitor on the basis of alternate days.\n",
    "\n",
    "\n",
    "[Source](https://archive.ics.uci.edu/ml/datasets/Dresses_Attribute_Sales)\n"
   ]
  },
  {
   "cell_type": "code",
   "execution_count": 15,
   "metadata": {
    "collapsed": false
   },
   "outputs": [],
   "source": [
    "# %reset # clear the variables in Ipyton\n",
    "import pandas as pd\n",
    "import numpy as np\n",
    "import matplotlib.pyplot as plt\n",
    "import pickle                                # For serializing and de-serializing Python objects\n",
    "import os\n",
    "import json                                  # For encoding and decoding JSON data\n",
    "from sklearn.datasets.base import Bunch\n",
    "from sklearn.preprocessing import Imputer, LabelEncoder\n",
    "from sklearn.base import BaseEstimator, TransformerMixin\n",
    "\n",
    "from sklearn.pipeline import Pipeline\n",
    "from sklearn.metrics import classification_report\n",
    "from sklearn.linear_model import LogisticRegression\n",
    "\n",
    "import seaborn as sns                        # Statistical visualization library based on Matplotlib\n",
    "\n",
    "os.chdir('C:\\Users\\Hien\\Documents\\working_projects\\MLproject_dresses_sales')"
   ]
  },
  {
   "cell_type": "code",
   "execution_count": 16,
   "metadata": {
    "collapsed": false
   },
   "outputs": [
    {
     "name": "stderr",
     "output_type": "stream",
     "text": [
      "C:\\Anaconda2\\lib\\site-packages\\ipykernel\\__main__.py:25: SettingWithCopyWarning: \n",
      "A value is trying to be set on a copy of a slice from a DataFrame\n",
      "\n",
      "See the caveats in the documentation: http://pandas.pydata.org/pandas-docs/stable/indexing.html#indexing-view-versus-copy\n"
     ]
    }
   ],
   "source": [
    "# Load and clean data\n",
    "# Data about dress\n",
    "dressdata = pd.read_excel('data/DressSales.xlsx',sheetname=0, header=0)\n",
    "dressdata.ix[0:5,1:24] # first five rows\n",
    "\n",
    "def convert(c):\n",
    "    if type(c).__name__ == \"unicode\": return c\n",
    "    return c.strftime(\"%d/%m/%Y\")\n",
    "\n",
    "dressdata = \\\n",
    "dressdata.rename(columns=lambda c: \n",
    "        c if type(c).__name__ == \"unicode\" else c.strftime(\"%d/%m/%Y\") \n",
    "    )\n",
    "                \n",
    "dressfeatures = pd.read_excel('data/AttributeDataSet.xlsx',sheetname=0,header=0)\n",
    "\n",
    "def firstcap():\n",
    "    global dressfeatures\n",
    "    \n",
    "    dressfeatures = dressfeatures.rename(columns={\"waiseline\":\"WaistLine\"})\n",
    "    dressfeatures = dressfeatures.rename(columns={\"Pattern Type\":\"PatternType\"})\n",
    "    \n",
    "    for y in dressfeatures.columns:     \n",
    "        x = np.unique(dressfeatures[y].values)\n",
    "        for i in x:\n",
    "            dressfeatures[y][dressfeatures[y]==i]=str(i).title()\n",
    "firstcap()\n",
    "\n",
    "def remove_nulls():\n",
    "    \"\"\" Replace \"Null\" with np.nan \"\"\"\n",
    "    global dressfeatures\n",
    "    \n",
    "    for c in ['Decoration', 'FabricType', 'Material', 'PatternType', 'WaistLine']:\n",
    "        dressfeatures[c][dressfeatures[c]=='Null'] = np.nan\n",
    "remove_nulls()\n",
    "\n",
    "def fix_spelling():\n",
    "    def rename(c, bad, good):\n",
    "        dressfeatures[c][dressfeatures[c]==bad]=good\n",
    "    \n",
    "    c = 'FabricType'\n",
    "    for bad,good in [\n",
    "            ('Flannael', 'Flannel'),\n",
    "            ('Knitting', 'Knitted'),\n",
    "            ('Sattin', 'Satin'),\n",
    "            ('Wollen', 'Woolen'),\n",
    "               ]:\n",
    "        rename(c, bad, good)\n",
    "        \n",
    "    c = 'Material'\n",
    "    for bad,good in [\n",
    "            ('Model', 'Modal'),\n",
    "            ('Sill', 'Silk'),\n",
    "               ]:\n",
    "        rename(c, bad, good)\n",
    "        \n",
    "    c = 'NeckLine'\n",
    "    for bad,good in [\n",
    "            ('Mandarin-Collor', 'Mandarin-Collar'),\n",
    "            ('Peterpan-Collor', 'Peterpan-Collar'),\n",
    "            ('Sqare-Collor', 'Square-Collar'),\n",
    "            ('Turndowncollor', 'Turndowncollar'),\n",
    "               ]:\n",
    "        rename(c, bad, good)\n",
    "        \n",
    "    c = 'PatternType'\n",
    "    for bad,good in [\n",
    "            ('Leapord', 'Leopard'),\n",
    "               ]:\n",
    "        rename(c, bad, good)\n",
    "    \n",
    "    c = 'Season'\n",
    "    for bad,good in [\n",
    "            ('Automn', 'Autumn'),\n",
    "               ]:\n",
    "        rename(c, bad, good)\n",
    "\n",
    "    c = 'Size'\n",
    "    for bad,good in [\n",
    "            ('Small', 'S'),\n",
    "            ('Xl', 'XL'),\n",
    "               ]:\n",
    "        rename(c, bad, good)\n",
    "    \n",
    "    c = 'SleeveLength'\n",
    "    for bad,good in [\n",
    "            ('Cap-Sleeves', 'Capsleeves'),\n",
    "            ('Half',        'Halfsleeves'),\n",
    "            ('Halfsleeve',  'Halfsleeves'),\n",
    "            ('Sleeevless',  'Sleeveless'),\n",
    "            ('Sleevless',   'Sleeveless'),\n",
    "            ('Sleveless',   'Sleeveless'),\n",
    "            ('Threequater', 'Threequarter'),\n",
    "            ('Thressqatar', 'Threequarter'),\n",
    "            ('Turndowncollor',  'Turndowncollar'),\n",
    "            ('Urndowncollor',   'Turndowncollar'),\n",
    "               ]:\n",
    "        rename(c, bad, good)   \n",
    "fix_spelling()"
   ]
  },
  {
   "cell_type": "markdown",
   "metadata": {},
   "source": [
    "## Sales of 5 best products"
   ]
  },
  {
   "cell_type": "code",
   "execution_count": 17,
   "metadata": {
    "collapsed": false
   },
   "outputs": [
    {
     "name": "stderr",
     "output_type": "stream",
     "text": [
      "C:\\Anaconda2\\lib\\site-packages\\ipykernel\\__main__.py:30: VisibleDeprecationWarning: boolean index did not match indexed array along dimension 0; dimension is 25 but corresponding boolean dimension is 23\n"
     ]
    },
    {
     "data": {
      "image/png": "[encoded data removed]",
      "text/plain": [
       "<matplotlib.figure.Figure at 0xbee7978>"
      ]
     },
     "metadata": {},
     "output_type": "display_data"
    }
   ],
   "source": [
    "# Exploring the data\n",
    "# ----------------\n",
    "\n",
    "# Organizing data\n",
    "# -----------\n",
    "def read_cols(data):\n",
    "    cols = {i for i in data.columns}\n",
    "    return cols\n",
    "\n",
    "# Plot the 5 products with the best sales\n",
    "dressdata.shape\n",
    "dressdata['sumsales']=dressdata.ix[:,1:-1].sum(axis=1)\n",
    "x = dressdata['sumsales'].sort_values()\n",
    "best5 = dressdata.ix[x[-5:].keys(),:]\n",
    "worst5 = dressdata.ix[x[0:5].keys(),:]\n",
    "\n",
    "def plot5best():\n",
    "    best5_1=best5.ix[best5.index[0],:]\n",
    "    fig = plt.figure()\n",
    "    ax = fig.add_subplot(1,1,1)\n",
    "    xis = np.arange(1,len(best5_1)+1)\n",
    "    bb = [best5.ix[n,1:-1].values for n in best5.index]\n",
    "    # Deal with nan values\n",
    "    # plt.plot(xis,b1,xis,b2,xis,b3,xis,b4,xis,b5) \n",
    "    B = np.array(bb).astype(np.double)\n",
    "    mask = np.isfinite(B)\n",
    "    labels = best5.ix[:,0]\n",
    "    labels1 = ['ID '+str(labels[n]) for n in best5.index]\n",
    "    for i in np.arange(0,5):\n",
    "        plt.plot(xis[mask[i]],bb[i][mask[i]],label = labels1[i])\n",
    "    kk = best5_1.ix[1:-1].keys()\n",
    "    kk_noyear = [d[0:-5] for d in kk] # Remove years (e.g. '/2013')\n",
    "    ax.set_xticks(np.arange(1,len(kk_noyear)+1))\n",
    "    ax.set_xticklabels(kk_noyear, rotation=90, fontsize='small')\n",
    "    labels1 = str(best5.ix[:,0])\n",
    "    ax.set_xlabel('date')\n",
    "    ax.set_ylabel('daily sales')\n",
    "    plt.title('Sales of 5 best selling products')\n",
    "    ax.legend(loc='best')\n",
    "    plt.show()\n",
    "plot5best()"
   ]
  },
  {
   "cell_type": "markdown",
   "metadata": {},
   "source": [
    "## Sales of the most popular styles of dress"
   ]
  },
  {
   "cell_type": "code",
   "execution_count": 18,
   "metadata": {
    "collapsed": false
   },
   "outputs": [
    {
     "name": "stdout",
     "output_type": "stream",
     "text": [
      "Styles are:\n",
      "Bohemian\n",
      "Brief\n",
      "Casual\n",
      "Cute\n",
      "Fashion\n",
      "Flare\n",
      "Novelty\n",
      "Ol\n",
      "Party\n",
      "Sexy\n",
      "Vintage\n",
      "Work\n"
     ]
    },
    {
     "data": {
      "image/png": "[encoded data removed]",
      "text/plain": [
       "<matplotlib.figure.Figure at 0xd031a90>"
      ]
     },
     "metadata": {},
     "output_type": "display_data"
    }
   ],
   "source": [
    "# Plot the style: pie-chart\n",
    "# Group 5 main style and others\n",
    "#dressfeatures['Style'][dressfeatures['Style']=='sexy']='Sexy'\n",
    "# Make first letter capital\n",
    "def plot5pop():\n",
    "    x = np.unique(dressfeatures['Style'].values)\n",
    "    for i in x:\n",
    "        dressfeatures['Style'][dressfeatures['Style']==i]=str(i).title()\n",
    "    # print out the styles\n",
    "    x = np.unique(dressfeatures['Style'].values)\n",
    "    print('Styles are:')\n",
    "    for i in x:\n",
    "        print i\n",
    "    # \n",
    "    grouped_style = dressfeatures.groupby(['Style'])\n",
    "    cnt_grouped_style = grouped_style['Dress_ID'].count()\n",
    "    cnt_grouped_style.sort_values(ascending=False, inplace=True)\n",
    "    \n",
    "    # Pick 5 most popular styles and combine the others as others\n",
    "    list5style_labels = ['Casual', 'Sexy', 'Party', 'Cute', 'Vintage',\n",
    "                  'Others']\n",
    "    valuepopular5 = cnt_grouped_style[:5]\n",
    "    valuepopular5['Others']=cnt_grouped_style.values[6:].sum()\n",
    "    fig1, ax1 = plt.subplots()\n",
    "    ax1.pie(valuepopular5.values, labels = list5style_labels, \n",
    "            autopct ='%1.1f%%',shadow=False,startangle=90)\n",
    "    ax1.axis('equal')  # Equal aspect ratio ensures that pie is drawn as a circle.\n",
    "    plt.title('Sales of popular products')\n",
    "    ax1.legend(loc='best')\n",
    "    plt.show()\n",
    "    \n",
    "plot5pop()"
   ]
  },
  {
   "cell_type": "markdown",
   "metadata": {
    "collapsed": true
   },
   "source": [
    "# Percentages of 'Recommendation' for different styles and price levels"
   ]
  },
  {
   "cell_type": "code",
   "execution_count": 19,
   "metadata": {
    "collapsed": false
   },
   "outputs": [
    {
     "name": "stderr",
     "output_type": "stream",
     "text": [
      "C:\\Anaconda2\\lib\\site-packages\\ipykernel\\__main__.py:8: SettingWithCopyWarning: \n",
      "A value is trying to be set on a copy of a slice from a DataFrame\n",
      "\n",
      "See the caveats in the documentation: http://pandas.pydata.org/pandas-docs/stable/indexing.html#indexing-view-versus-copy\n"
     ]
    },
    {
     "name": "stdout",
     "output_type": "stream",
     "text": [
      "In absolute values:\n",
      "------------------\n",
      "Price     Average  High   Low  Medium  Very-High\n",
      "Style                                           \n",
      "Bohemian      3.0   NaN   8.0     1.0        1.0\n",
      "Brief         4.0   NaN   0.0     NaN        NaN\n",
      "Casual       42.0   4.0  34.0     8.0        1.0\n",
      "Cute          8.0   2.0   8.0     4.0        NaN\n",
      "Fashion       0.0   NaN   NaN     NaN        NaN\n",
      "Flare         1.0   NaN   NaN     NaN        NaN\n",
      "Novelty       2.0   NaN   NaN     1.0        NaN\n",
      "Ol            NaN   NaN   NaN     0.0        NaN\n",
      "Party        12.0   3.0   NaN     4.0       14.0\n",
      "Sexy         11.0   0.0  21.0     0.0        0.0\n",
      "Vintage       6.0   0.0   1.0     1.0        NaN\n",
      "Work          3.0   NaN   0.0     0.0        NaN\n",
      "In percentage:\n",
      "-------------\n",
      "Price       Average      High        Low    Medium  Very-High\n",
      "Style                                                        \n",
      "Bohemian   1.428571       NaN   3.809524  0.476190   0.476190\n",
      "Brief      1.904762       NaN   0.000000       NaN        NaN\n",
      "Casual    20.000000  1.904762  16.190476  3.809524   0.476190\n",
      "Cute       3.809524  0.952381   3.809524  1.904762        NaN\n",
      "Fashion    0.000000       NaN        NaN       NaN        NaN\n",
      "Flare      0.476190       NaN        NaN       NaN        NaN\n",
      "Novelty    0.952381       NaN        NaN  0.476190        NaN\n",
      "Ol              NaN       NaN        NaN  0.000000        NaN\n",
      "Party      5.714286  1.428571        NaN  1.904762   6.666667\n",
      "Sexy       5.238095  0.000000  10.000000  0.000000   0.000000\n",
      "Vintage    2.857143  0.000000   0.476190  0.476190        NaN\n",
      "Work       1.428571       NaN   0.000000  0.000000        NaN\n"
     ]
    }
   ],
   "source": [
    "def recommended():\n",
    "    #Create a table with groups according to styles, price, and recommendation\n",
    "    # Change the type of the \"Recommendation\" column into numeric type\n",
    "    dressfeatures['Recommendation_int']=pd.to_numeric(dressfeatures['Recommendation'])\n",
    "    # Make first letter capital\n",
    "    x = np.unique(dressfeatures['Price'].values)\n",
    "    for i in x:\n",
    "        dressfeatures['Price'][dressfeatures['Price']==i]=str(i).title()\n",
    "            \n",
    "    cnt_grouped_all = dressfeatures.groupby(['Style','Price'])\n",
    "    cnt_count = cnt_grouped_all['Recommendation_int'].sum()\n",
    "    print('In absolute values:')\n",
    "    print('------------------')\n",
    "    print(cnt_count.unstack())\n",
    "    cnt_count_percent = (cnt_count*100)/ dressfeatures['Recommendation_int'].sum()\n",
    "    print('In percentage:')\n",
    "    print('-------------')\n",
    "    print(cnt_count_percent.unstack())\n",
    "recommended()"
   ]
  },
  {
   "cell_type": "markdown",
   "metadata": {
    "collapsed": true
   },
   "source": [
    "## Mangage the data for modelling"
   ]
  },
  {
   "cell_type": "code",
   "execution_count": 20,
   "metadata": {
    "collapsed": false
   },
   "outputs": [
    {
     "name": "stdout",
     "output_type": "stream",
     "text": [
      "Wrote data/meta.json\n"
     ]
    },
    {
     "name": "stderr",
     "output_type": "stream",
     "text": [
      "C:\\Anaconda2\\lib\\site-packages\\numpy\\lib\\arraysetops.py:259: FutureWarning: numpy equal will not check object identity in the future. The comparison did not return the same result as suggested by the identity (`is`)) and will change.\n",
      "  return aux[:-1][aux[1:] == aux[:-1]]\n"
     ]
    }
   ],
   "source": [
    "## Manage the data for modelling\n",
    "# -----------------------------\n",
    "# Organize the data\n",
    "\n",
    "# Drop the irrelevant features\n",
    "dressfeatures_data = dressfeatures.copy()\n",
    "dressfeatures_data.drop('Dress_ID', axis=1, inplace=True)\n",
    "dressfeatures_data.drop('Rating', axis=1, inplace=True) # Missing and doesn't make sense\n",
    "dressfeatures_data.drop('Size', axis=1, inplace=True) # irrelevant\n",
    "dressfeatures_data.drop('Recommendation_int', axis=1, inplace=True) # irrelevant\n",
    "\n",
    "# Change the missing values in columns into \"Unknown\": don't use impution with these columns\n",
    "def fix_nan_values():\n",
    "    def rename(c):\n",
    "        dressfeatures_data[c][dressfeatures_data[c].isnull()]= \"Unknown\"\n",
    "    \n",
    "    clist = ['WaistLine','Material','FabricType','Decoration','PatternType']\n",
    "    for c in clist:\n",
    "        rename(c)\n",
    "        \n",
    "fix_nan_values()\n",
    "\n",
    "# Create a meta and save in the folder\n",
    "\n",
    "def write_meta_json():\n",
    "    meta = {\n",
    "            'target_names': sorted(list(str(n) for n in dressfeatures_data.Recommendation.unique())),\n",
    "            'feature_names': sorted(list(dressfeatures_data.columns)),\n",
    "            'categorical_features': {\n",
    "                    c: sorted(list(dressfeatures_data[c].unique()))\n",
    "                    for c in dressfeatures_data.columns\n",
    "                    if dressfeatures_data[c].dtype == 'object'\n",
    "                    },\n",
    "            }\n",
    "    meta_file = 'data/meta.json'\n",
    "    with open(meta_file,'w') as f:\n",
    "        json.dump(meta, f, indent=2, sort_keys=True)\n",
    "    print('Wrote %s'%meta_file)\n",
    "    \n",
    "write_meta_json()\n",
    "\n",
    "# Split the data into training and testing sets\n",
    "from sklearn.model_selection import train_test_split\n",
    "X_train, X_test, y_train, y_test = train_test_split(dressfeatures_data, \n",
    "            dressfeatures_data['Recommendation'], \n",
    "            stratify=dressfeatures_data['Recommendation'], test_size=0.025, random_state=42)\n",
    "\n",
    "# Use the function to load the data \n",
    "def load_data(root='C:/Users/Hien/Documents/working_projects/MLproject_dresses_sales/data'):\n",
    "    # Load the meta data from the file\n",
    "    with open(os.path.join(root, 'meta.json'), 'r') as f:\n",
    "        meta = json.load(f)\n",
    "\n",
    "    names = meta['feature_names']\n",
    "\n",
    "    # Load the readme information\n",
    "    with open(os.path.join(root, 'README.md'), 'r') as f:\n",
    "        readme = f.read()\n",
    "\n",
    "    # Load the training and test data, skipping the bad row in the test data\n",
    "    train = X_train\n",
    "    test = X_test\n",
    "    \n",
    "    # Remove the target from the categorical features\n",
    "    meta['categorical_features'].pop('Recommendation')\n",
    "\n",
    "    # Return the bunch with the appropriate data chunked apart\n",
    "    return Bunch(\n",
    "        data = train.drop('Recommendation',axis=1,inplace=False),\n",
    "        target = train['Recommendation'],\n",
    "        data_test = test.drop('Recommendation',axis=1,inplace=False),\n",
    "        target_test = test['Recommendation'],\n",
    "        target_names = meta['target_names'],\n",
    "        feature_names = meta['feature_names'],\n",
    "        categorical_features = meta['categorical_features'],\n",
    "        DESCR = readme,\n",
    "    )\n",
    "    \n",
    "# Load the data\n",
    "dress_data = load_data()\n",
    "\n",
    "# Encode the data\n",
    "from sklearn.preprocessing import Imputer, LabelEncoder\n",
    "from sklearn.base import BaseEstimator, TransformerMixin\n",
    "\n",
    "class EncodeCategorical(BaseEstimator, TransformerMixin):\n",
    "    \"\"\"\n",
    "    Encodes a specified list of columns or all columns if None.\n",
    "    \"\"\"\n",
    "    def __init__(self, columns=None):\n",
    "        self.columns  = columns\n",
    "        self.encoders = None\n",
    "\n",
    "    def fit(self, data, target=None):\n",
    "        \"\"\"\n",
    "        Expects a data frame with named columns to encode.\n",
    "        \"\"\"\n",
    "        # Encode all columns if columns is None\n",
    "        if self.columns is None:\n",
    "            self.columns = data.columns\n",
    "\n",
    "        # Fit a label encoder for each column in the data frame\n",
    "        self.encoders = {\n",
    "            column: LabelEncoder().fit(data[column])\n",
    "            for column in self.columns\n",
    "        }\n",
    "        return self\n",
    "\n",
    "    def transform(self, data):\n",
    "        \"\"\"\n",
    "        Uses the encoders to transform a data frame.\n",
    "        \"\"\"\n",
    "        output = data.copy()\n",
    "        for column, encoder in self.encoders.items():\n",
    "            output[column] = encoder.transform(data[column])\n",
    "\n",
    "        return output\n",
    "    \n",
    "encoder = EncodeCategorical(dress_data.categorical_features.keys())\n",
    "dress_data_encoded = encoder.fit_transform(dress_data.data)\n",
    "\n",
    "# Imputation\n",
    "class ImputeCategorical(BaseEstimator, TransformerMixin):\n",
    "    \"\"\"\n",
    "    Encodes a specified list of columns or all columns if None.\n",
    "    \"\"\"\n",
    "\n",
    "    def __init__(self, columns=None):\n",
    "        self.columns = columns\n",
    "        self.imputer = None\n",
    "\n",
    "    def fit(self, data, target=None):\n",
    "        \"\"\"\n",
    "        Expects a data frame with named columns to impute.\n",
    "        \"\"\"\n",
    "        # Encode all columns if columns is None\n",
    "        if self.columns is None:\n",
    "            self.columns = data.columns\n",
    "\n",
    "        # Fit an imputer for each column in the data frame\n",
    "        self.imputer = Imputer(missing_values=0, strategy='most_frequent')\n",
    "        self.imputer.fit(data[self.columns])\n",
    "\n",
    "        return self\n",
    "\n",
    "    def transform(self, data):\n",
    "        \"\"\"\n",
    "        Uses the encoders to transform a data frame.\n",
    "        \"\"\"\n",
    "        output = data.copy()\n",
    "        output[self.columns] = self.imputer.transform(output[self.columns])\n",
    "        return output\n",
    "    \n",
    "imputer = ImputeCategorical(['Season', 'NeckLine', 'SleeveLength'])\n",
    "data_impt = imputer.fit_transform(dress_data_encoded)"
   ]
  },
  {
   "cell_type": "markdown",
   "metadata": {
    "collapsed": true
   },
   "source": [
    "## Build the model"
   ]
  },
  {
   "cell_type": "code",
   "execution_count": 21,
   "metadata": {
    "collapsed": false
   },
   "outputs": [
    {
     "name": "stdout",
     "output_type": "stream",
     "text": [
      "             precision    recall  f1-score   support\n",
      "\n",
      "          0       0.67      1.00      0.80         8\n",
      "          1       1.00      0.20      0.33         5\n",
      "\n",
      "avg / total       0.79      0.69      0.62        13\n",
      "\n"
     ]
    }
   ],
   "source": [
    "## Build the model\n",
    "# ---------------\n",
    "\n",
    "# Need to encode our target data as well\n",
    "yencode = LabelEncoder().fit(dress_data.target)\n",
    "\n",
    "# Construct the pipeline\n",
    "from sklearn.pipeline import Pipeline\n",
    "from sklearn.metrics import classification_report\n",
    "from sklearn.linear_model import LogisticRegression\n",
    "\n",
    "dress_sales = Pipeline([\n",
    "        ('encoder',  EncodeCategorical(dress_data.categorical_features.keys())),\n",
    "        ('imputer', ImputeCategorical(['Season', 'NeckLine', 'SleeveLength'])),\n",
    "        ('classifier', LogisticRegression())\n",
    "    ])\n",
    "\n",
    "# Fit the pipeline\n",
    "dress_sales.fit(dress_data.data, yencode.transform(dress_data.target))\n",
    "\n",
    "# encode test targets\n",
    "y_true = yencode.transform([y for y in dress_data.target_test])\n",
    "\n",
    "# use the model to get the predicted value\n",
    "y_pred = dress_sales.predict(dress_data.data_test)\n",
    "\n",
    "# Classification report\n",
    "from sklearn.metrics import classification_report\n",
    "\n",
    "# execute classification report\n",
    "print classification_report(y_true, y_pred, target_names=dress_data.target_names)\n",
    "\n",
    "# save the model to disk for reuse later, using pickle module\n",
    "path1 = 'C:/Users/Hien/Documents/working_projects/MLproject_dresses_sales/data'\n",
    "def dump_model(model, path = path1 , name='classifier.pickle'):\n",
    "    with open(os.path.join(path, name), 'wb') as f:\n",
    "        pickle.dump(model, f)\n",
    "\n",
    "dump_model(dress_sales)"
   ]
  },
  {
   "cell_type": "markdown",
   "metadata": {},
   "source": [
    "# Operate the model"
   ]
  },
  {
   "cell_type": "code",
   "execution_count": 22,
   "metadata": {
    "collapsed": false
   },
   "outputs": [
    {
     "name": "stdout",
     "output_type": "stream",
     "text": [
      "-----------------------------------------------------------------\n",
      "We predict that the product is not recommended\n"
     ]
    }
   ],
   "source": [
    "# Model operation\n",
    "# ---------------\n",
    "path2 = 'C:/Users/Hien/Documents/working_projects/MLproject_dresses_sales/data/classifier.pickle'\n",
    "def load_model(path=path2):\n",
    "    with open(path, 'rb') as f:\n",
    "        return pickle.load(f)\n",
    "\n",
    "def predict(model, meta=dress_data):\n",
    "    data = {} # Store the input from the user\n",
    "\n",
    "    for column in meta['feature_names'][:-1]:\n",
    "        # We cheat and use the mean value for the weighting category, figuring\n",
    "        # that most users won't know what theirs is.\n",
    "        if column == 'fnlwgt':\n",
    "            data[column] = 189778\n",
    "        else:\n",
    "            # Get the valid responses\n",
    "            valid = meta['categorical_features'].get(column)\n",
    "\n",
    "            # Prompt the user for an answer until good\n",
    "            while True:\n",
    "                val = \" \" + raw_input(\"enter {} >\".format(column))\n",
    "                if valid and val not in valid:\n",
    "                    print \"Not valid, choose one of {}\".format(valid)\n",
    "                else:\n",
    "                    data[column] = val\n",
    "                    break\n",
    "\n",
    "    # Create prediction and label\n",
    "    yhat = model.predict(pd.DataFrame([data]))\n",
    "    print \"We predict that you make %s\" % yencode.inverse_transform(yhat)[0]\n",
    "    \n",
    "def ppredict(model, meta=dress_data,\n",
    "             Style='Brief',\n",
    "             Price='Average',\n",
    "             Season='Winter',\n",
    "             NeckLine='O-Neck',\n",
    "             SleeveLength='Full',\n",
    "             WaistLine='Natural',\n",
    "             Material='Mix',\n",
    "             FabricType='Unknown',\n",
    "             Decoration = 'Sashes',\n",
    "             PatternType = 'Solid'\n",
    "             ):\n",
    "    data = {\n",
    "        'Style': Style,\n",
    "        'Price':Price,\n",
    "        'Season':Season,\n",
    "        'NeckLine':NeckLine,\n",
    "        'SleeveLength':SleeveLength,\n",
    "        'WaistLine':WaistLine,\n",
    "        'Material':Material,\n",
    "        'FabricType':FabricType,\n",
    "        'Decoration':Decoration,\n",
    "        'PatternType':PatternType,\n",
    "    }\n",
    "\n",
    "    # Create prediction and label\n",
    "    yhat = model.predict(pd.DataFrame([data]))\n",
    "    result = yencode.inverse_transform(yhat)[0]\n",
    "    if result == 1:      \n",
    "        print \"We predict that the product is recommended\"\n",
    "    else:\n",
    "        print \"We predict that the product is not recommended\"\n",
    "    \n",
    "def valid(column):\n",
    "    val = meta['categorical_features'].get(column)\n",
    "    return val\n",
    "    \n",
    "print '-----------------------------------------------------------------'\n",
    "\n",
    "# Execute the interface\n",
    "model = load_model()\n",
    "#predict(model)\n",
    "ppredict(model,dress_data)"
   ]
  },
  {
   "cell_type": "code",
   "execution_count": null,
   "metadata": {
    "collapsed": true
   },
   "outputs": [],
   "source": []
  }
 ],
 "metadata": {
  "kernelspec": {
   "display_name": "Python 2",
   "language": "python",
   "name": "python2"
  },
  "language_info": {
   "codemirror_mode": {
    "name": "ipython",
    "version": 2
   },
   "file_extension": ".py",
   "mimetype": "text/x-python",
   "name": "python",
   "nbconvert_exporter": "python",
   "pygments_lexer": "ipython2",
   "version": "2.7.13"
  }
 },
 "nbformat": 4,
 "nbformat_minor": 2
}
